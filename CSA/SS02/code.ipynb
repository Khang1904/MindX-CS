{
 "cells": [
  {
   "cell_type": "markdown",
   "id": "6d6b5baf",
   "metadata": {},
   "source": [
    "1.  Tạo một danh sách chứa các số từ 1 đến 100\n",
    "\n",
    "=> Dùng lặp for từ 1 đến 100, với mỗi số thì thêm nó vào danh sách\n"
   ]
  },
  {
   "cell_type": "code",
   "execution_count": 4,
   "id": "d892d0b2",
   "metadata": {},
   "outputs": [
    {
     "name": "stdout",
     "output_type": "stream",
     "text": [
      "[1, 2, 3, 4, 5, 6, 7, 8, 9, 10, 11, 12, 13, 14, 15, 16, 17, 18, 19, 20, 21, 22, 23, 24, 25, 26, 27, 28, 29, 30, 31, 32, 33, 34, 35, 36, 37, 38, 39, 40, 41, 42, 43, 44, 45, 46, 47, 48, 49, 50, 51, 52, 53, 54, 55, 56, 57, 58, 59, 60, 61, 62, 63, 64, 65, 66, 67, 68, 69, 70, 71, 72, 73, 74, 75, 76, 77, 78, 79, 80, 81, 82, 83, 84, 85, 86, 87, 88, 89, 90, 91, 92, 93, 94, 95, 96, 97, 98, 99, 100]\n"
     ]
    }
   ],
   "source": [
    "ls = []\n",
    "for i in range(1, 101):\n",
    "    ls.append(i)\n",
    "print(ls)"
   ]
  },
  {
   "cell_type": "markdown",
   "id": "54da2ee9",
   "metadata": {},
   "source": [
    "2. Viết hàm tạo danh sách mới chỉ chứa các số lẻ từ danh sách bài 1.\n",
    "\n",
    "=> Vẫn dùng lặp for, nhưng nếu số là số lẻ (x % 2 == 1) thì mới thêm vào danh sách\n"
   ]
  },
  {
   "cell_type": "code",
   "execution_count": 2,
   "id": "2e69af72",
   "metadata": {},
   "outputs": [
    {
     "name": "stdout",
     "output_type": "stream",
     "text": [
      "[1, 3, 5, 7, 9, 11, 13, 15, 17, 19, 21, 23, 25, 27, 29, 31, 33, 35, 37, 39, 41, 43, 45, 47, 49, 51, 53, 55, 57, 59, 61, 63, 65, 67, 69, 71, 73, 75, 77, 79, 81, 83, 85, 87, 89, 91, 93, 95, 97, 99]\n"
     ]
    }
   ],
   "source": [
    "ls = []\n",
    "for i in range(1, 101):\n",
    "    if i % 2 == 1:\n",
    "        ls.append(i)\n",
    "print(ls)"
   ]
  },
  {
   "cell_type": "markdown",
   "id": "7070af3c",
   "metadata": {},
   "source": [
    "3. Tạo một từ điển, trong đó:\n",
    "\n",
    "- mỗi khóa là một số từ 1 đến 10\n",
    "- giá trị là bình phương của khóa\n",
    "\n",
    "=> Dùng lặp for từ 1 đến 10, với mỗi số thì tạo khóa - giá trị tương ứng.\n"
   ]
  },
  {
   "cell_type": "code",
   "execution_count": 3,
   "id": "fbccb57e",
   "metadata": {},
   "outputs": [
    {
     "name": "stdout",
     "output_type": "stream",
     "text": [
      "{1: 1, 2: 4, 3: 9, 4: 16, 5: 25, 6: 36, 7: 49, 8: 64, 9: 81, 10: 100}\n"
     ]
    }
   ],
   "source": [
    "dct = {}\n",
    "\n",
    "for i in range(1, 11):\n",
    "    dct[i] = i**2\n",
    "\n",
    "print(dct)"
   ]
  }
 ],
 "metadata": {
  "kernelspec": {
   "display_name": ".venv",
   "language": "python",
   "name": "python3"
  },
  "language_info": {
   "codemirror_mode": {
    "name": "ipython",
    "version": 3
   },
   "file_extension": ".py",
   "mimetype": "text/x-python",
   "name": "python",
   "nbconvert_exporter": "python",
   "pygments_lexer": "ipython3",
   "version": "3.13.2"
  }
 },
 "nbformat": 4,
 "nbformat_minor": 5
}
